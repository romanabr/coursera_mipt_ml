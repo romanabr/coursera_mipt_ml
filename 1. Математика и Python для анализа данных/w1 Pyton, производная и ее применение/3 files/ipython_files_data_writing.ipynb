{
 "cells": [
  {
   "cell_type": "code",
   "execution_count": 2,
   "id": "ffc6759e",
   "metadata": {},
   "outputs": [],
   "source": [
    "file_obj = open('file_to_write_in.txt', 'w')\n",
    "string = 'это моя строка\\n'\n",
    "file_obj.write(string)\n",
    "file_obj.close()\n"
   ]
  },
  {
   "cell_type": "code",
   "execution_count": 7,
   "id": "ac003e02",
   "metadata": {},
   "outputs": [
    {
     "name": "stdout",
     "output_type": "stream",
     "text": [
      "string 2string 3"
     ]
    }
   ],
   "source": [
    "!cat file_to_write_in.txt"
   ]
  },
  {
   "cell_type": "code",
   "execution_count": 4,
   "id": "bc8b5e4b",
   "metadata": {},
   "outputs": [],
   "source": [
    "file_obj = open('file_to_write_in.txt', 'w')\n",
    "file_obj.write('string 2\\n')\n",
    "file_obj.close()"
   ]
  },
  {
   "cell_type": "code",
   "execution_count": 6,
   "id": "bb0e04fa",
   "metadata": {},
   "outputs": [],
   "source": [
    "file_obj = open('file_to_write_in.txt', 'a')\n",
    "file_obj.write('string 3\\n')\n",
    "file_obj.close()"
   ]
  },
  {
   "cell_type": "code",
   "execution_count": 15,
   "id": "77e64180",
   "metadata": {},
   "outputs": [
    {
     "name": "stdout",
     "output_type": "stream",
     "text": [
      "[1, 2, 3, 4, 5, 6, 7, 8, 9, 10]\n"
     ]
    }
   ],
   "source": [
    "digits = list(range(1, 11))\n",
    "print(digits)\n",
    "\n",
    "\n",
    "with open('file_out.txt', 'w') as f:\n",
    "    f.writelines(d + '\\n' for d in map(str, digits))"
   ]
  },
  {
   "cell_type": "code",
   "execution_count": 16,
   "id": "4fdb6baf",
   "metadata": {},
   "outputs": [
    {
     "name": "stdout",
     "output_type": "stream",
     "text": [
      "1\r\n",
      "2\r\n",
      "3\r\n",
      "4\r\n",
      "5\r\n",
      "6\r\n",
      "7\r\n",
      "8\r\n",
      "9\r\n",
      "10\r\n"
     ]
    }
   ],
   "source": [
    "!cat file_out.txt"
   ]
  },
  {
   "cell_type": "code",
   "execution_count": 20,
   "id": "a88cde16",
   "metadata": {},
   "outputs": [
    {
     "name": "stdout",
     "output_type": "stream",
     "text": [
      "0 1 0 1\n",
      "[0, 1, 2, 3]\n"
     ]
    }
   ],
   "source": [
    "#то выведет выражение: print \" \".join([str(x ** 2 % 2) for x in range(4)]) ? \n",
    "\n",
    "x =\" \".join([str(x ** 2 % 2) for x in range(4)]) \n",
    "print(x)\n",
    "\n",
    "print( [x for x in range(4)])"
   ]
  },
  {
   "cell_type": "code",
   "execution_count": 21,
   "id": "1ddc91bd",
   "metadata": {},
   "outputs": [
    {
     "name": "stdout",
     "output_type": "stream",
     "text": [
      "<function <lambda> at 0x7fddf4b57b80>\n"
     ]
    }
   ],
   "source": [
    "## Что вернет выражение lambda x, y: x ** 2\n",
    "\n",
    "z = lambda x,y: x ** 2\n",
    "print(z)\n"
   ]
  }
 ],
 "metadata": {
  "kernelspec": {
   "display_name": "Python 3",
   "language": "python",
   "name": "python3"
  },
  "language_info": {
   "codemirror_mode": {
    "name": "ipython",
    "version": 3
   },
   "file_extension": ".py",
   "mimetype": "text/x-python",
   "name": "python",
   "nbconvert_exporter": "python",
   "pygments_lexer": "ipython3",
   "version": "3.8.8"
  }
 },
 "nbformat": 4,
 "nbformat_minor": 5
}
