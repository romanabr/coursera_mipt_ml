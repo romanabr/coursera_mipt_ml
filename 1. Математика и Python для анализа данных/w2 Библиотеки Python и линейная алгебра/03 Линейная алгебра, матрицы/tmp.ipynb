{
 "cells": [
  {
   "cell_type": "markdown",
   "metadata": {
    "collapsed": true,
    "pycharm": {
     "name": "#%% md\n"
    }
   },
   "source": [
    "$$ \\begin{vmatrix} a_{1,1} & a_{1,2} & a_{1,3} \\\\ a_{2,1} & a_{2,2} & a_{2,3} \\\\ a_{3,1} & a_{3,2} & a_{3,3} \\end{vmatrix} * \\begin{vmatrix} x_1 \\\\ x_2 \\\\ x_3\\end{vmatrix} = \\begin{vmatrix} b_1 \\\\ b_2 \\\\ b_3\\end{vmatrix}$$\n",
    "\n",
    "$ b_1 = a_{1,1}*x_1 + a_{1,2}*x_2+ a_{1,3}*x_3$\n",
    "$ b_2 = a_{2,1}*x_1 + a_{2,2}*x_2+ a_{2,3}*x_3$\n",
    "$ b_3 = a_{3,1}*x_1 + a_{3,2}*x_2+ a_{3,3}*x_3$"
   ]
  },
  {
   "cell_type": "markdown",
   "source": [],
   "metadata": {
    "collapsed": false
   }
  }
 ],
 "metadata": {
  "kernelspec": {
   "display_name": "Python 3",
   "language": "python",
   "name": "python3"
  },
  "language_info": {
   "codemirror_mode": {
    "name": "ipython",
    "version": 2
   },
   "file_extension": ".py",
   "mimetype": "text/x-python",
   "name": "python",
   "nbconvert_exporter": "python",
   "pygments_lexer": "ipython2",
   "version": "2.7.6"
  }
 },
 "nbformat": 4,
 "nbformat_minor": 0
}