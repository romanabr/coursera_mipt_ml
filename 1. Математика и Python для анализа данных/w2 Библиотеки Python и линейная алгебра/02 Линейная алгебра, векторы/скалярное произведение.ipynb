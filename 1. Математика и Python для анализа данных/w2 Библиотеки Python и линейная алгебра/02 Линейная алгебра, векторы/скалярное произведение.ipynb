{
 "cells": [
  {
   "cell_type": "markdown",
   "metadata": {
    "collapsed": true,
    "pycharm": {
     "name": "#%% md\n"
    }
   },
   "source": [
    "###  Вопрос\n",
    "\n",
    "Чему равно скалярное произведение векторов a = (1, 2, 3) и b = (-3, 1, 1)?"
   ]
  },
  {
   "cell_type": "markdown",
   "source": [
    "###  Решение\n",
    "\n",
    "Скалярное произведение в пространстве $\\mathbb{R}^{n}$ для двух векторов $x = (x_{1}, \\dots, x_{n})$ и $y = (y_{1}, \\dots, y_{n})$ определяется как:\n",
    "\n",
    "$$ \\langle x, y \\rangle = \\sum_{i=1}^n x_{i} y_{i}. $$\n",
    "\n",
    "Вычисляем:\n",
    "\n",
    "$ \\langle x, y \\rangle  = 1*(-3) + 2*1 + 3*1 = -3 + 2 + 3 = 2 $"
   ],
   "metadata": {
    "collapsed": false
   }
  },
  {
   "cell_type": "code",
   "execution_count": 2,
   "outputs": [
    {
     "name": "stdout",
     "output_type": "stream",
     "text": [
      "Скалярное произведение:  2\n"
     ]
    }
   ],
   "source": [
    "import numpy as np\n",
    "a = np.array([1, 2, 3])\n",
    "b = np.array([-3, 1, 1])\n",
    "\n",
    "result = np.dot(a, b)\n",
    "print('Скалярное произведение: ', result)\n",
    "\n"
   ],
   "metadata": {
    "collapsed": false,
    "pycharm": {
     "name": "#%%\n"
    }
   }
  }
 ],
 "metadata": {
  "kernelspec": {
   "display_name": "Python 3",
   "language": "python",
   "name": "python3"
  },
  "language_info": {
   "codemirror_mode": {
    "name": "ipython",
    "version": 2
   },
   "file_extension": ".py",
   "mimetype": "text/x-python",
   "name": "python",
   "nbconvert_exporter": "python",
   "pygments_lexer": "ipython2",
   "version": "2.7.6"
  }
 },
 "nbformat": 4,
 "nbformat_minor": 0
}