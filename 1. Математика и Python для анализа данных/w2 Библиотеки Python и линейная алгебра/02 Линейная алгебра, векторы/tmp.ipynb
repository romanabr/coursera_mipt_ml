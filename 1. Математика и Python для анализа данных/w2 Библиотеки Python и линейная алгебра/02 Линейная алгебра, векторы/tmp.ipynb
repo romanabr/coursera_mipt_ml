{
 "cells": [
  {
   "cell_type": "code",
   "execution_count": 8,
   "metadata": {
    "collapsed": true
   },
   "outputs": [
    {
     "name": "stdout",
     "output_type": "stream",
     "text": [
      "a:  [ 8 10 -1  0  0]\n",
      "b:  [[ 8 10 -1  0  0]]\n",
      "c: [[ 8]\n",
      " [10]\n",
      " [-1]\n",
      " [ 0]\n",
      " [ 0]]\n"
     ]
    }
   ],
   "source": [
    "import numpy\n",
    "a = numpy.array([8, 10, -1, 0, 0])\n",
    "print('a: ', a)\n",
    "\n",
    "b = a.reshape((1, 5))\n",
    "print('b: ', b)\n",
    "\n",
    "c = a[:, numpy.newaxis]\n",
    "print('c:',c)"
   ]
  }
 ],
 "metadata": {
  "kernelspec": {
   "display_name": "Python 3",
   "language": "python",
   "name": "python3"
  },
  "language_info": {
   "codemirror_mode": {
    "name": "ipython",
    "version": 2
   },
   "file_extension": ".py",
   "mimetype": "text/x-python",
   "name": "python",
   "nbconvert_exporter": "python",
   "pygments_lexer": "ipython2",
   "version": "2.7.6"
  }
 },
 "nbformat": 4,
 "nbformat_minor": 0
}