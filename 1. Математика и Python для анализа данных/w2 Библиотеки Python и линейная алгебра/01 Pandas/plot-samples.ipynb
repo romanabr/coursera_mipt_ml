{
 "cells": [
  {
   "cell_type": "code",
   "execution_count": 1,
   "id": "065f4c41",
   "metadata": {},
   "outputs": [
    {
     "data": {
      "text/plain": "array([    0,     1,     4,     9,    16,    25,    36,    49,    64,\n          81,   100,   121,   144,   169,   196,   225,   256,   289,\n         324,   361,   400,   441,   484,   529,   576,   625,   676,\n         729,   784,   841,   900,   961,  1024,  1089,  1156,  1225,\n        1296,  1369,  1444,  1521,  1600,  1681,  1764,  1849,  1936,\n        2025,  2116,  2209,  2304,  2401,  2500,  2601,  2704,  2809,\n        2916,  3025,  3136,  3249,  3364,  3481,  3600,  3721,  3844,\n        3969,  4096,  4225,  4356,  4489,  4624,  4761,  4900,  5041,\n        5184,  5329,  5476,  5625,  5776,  5929,  6084,  6241,  6400,\n        6561,  6724,  6889,  7056,  7225,  7396,  7569,  7744,  7921,\n        8100,  8281,  8464,  8649,  8836,  9025,  9216,  9409,  9604,\n        9801, 10000])"
     },
     "execution_count": 1,
     "metadata": {},
     "output_type": "execute_result"
    }
   ],
   "source": [
    "import numpy as np\n",
    "#np.arange(1, 101) ** 2\n",
    "#range(1, 101) ** 2\n",
    "np.arange(101) ** 2"
   ]
  },
  {
   "cell_type": "code",
   "execution_count": 2,
   "id": "e6ad3964",
   "metadata": {},
   "outputs": [
    {
     "ename": "ModuleNotFoundError",
     "evalue": "No module named 'scipy'",
     "output_type": "error",
     "traceback": [
      "\u001B[0;31m---------------------------------------------------------------------------\u001B[0m",
      "\u001B[0;31mModuleNotFoundError\u001B[0m                       Traceback (most recent call last)",
      "\u001B[0;32m<ipython-input-2-d047676ec5bf>\u001B[0m in \u001B[0;36m<module>\u001B[0;34m\u001B[0m\n\u001B[0;32m----> 1\u001B[0;31m \u001B[0;32mfrom\u001B[0m \u001B[0mscipy\u001B[0m \u001B[0;32mimport\u001B[0m \u001B[0moptimize\u001B[0m \u001B[0;32mas\u001B[0m \u001B[0mo\u001B[0m\u001B[0;34m\u001B[0m\u001B[0;34m\u001B[0m\u001B[0m\n\u001B[0m\u001B[1;32m      2\u001B[0m \u001B[0;34m\u001B[0m\u001B[0m\n",
      "\u001B[0;31mModuleNotFoundError\u001B[0m: No module named 'scipy'"
     ]
    }
   ],
   "source": [
    "from scipy import optimize as o"
   ]
  },
  {
   "cell_type": "code",
   "execution_count": null,
   "id": "b944fb20",
   "metadata": {},
   "outputs": [],
   "source": [
    "def f(x):\n",
    "    return (x[0] - 3.2) ** 2 + (x[1] - 0.1) ** 2 + 3\n",
    "\n",
    "print(f([3.2, 0.1]))"
   ]
  },
  {
   "cell_type": "code",
   "execution_count": null,
   "id": "4d4225f9",
   "metadata": {},
   "outputs": [],
   "source": [
    "x_min = o.minimize(f, [5,5])\n",
    "print (x_min)"
   ]
  },
  {
   "cell_type": "code",
   "execution_count": null,
   "id": "7d9bb93c",
   "metadata": {},
   "outputs": [],
   "source": [
    "#Давайте решим простенькую систему уравнений\n"
   ]
  },
  {
   "cell_type": "markdown",
   "id": "5a891ee3",
   "metadata": {},
   "source": [
    "## Matplotlib"
   ]
  },
  {
   "cell_type": "code",
   "execution_count": 6,
   "id": "fe01ec14",
   "metadata": {},
   "outputs": [
    {
     "data": {
      "text/plain": "<Figure size 432x288 with 1 Axes>",
      "image/png": "[encoded data removed]"
     },
     "metadata": {
      "needs_background": "light"
     },
     "output_type": "display_data"
    }
   ],
   "source": [
    "%matplotlib inline\n",
    "from matplotlib import pylab as plt\n",
    "plt.plot([1,2,3,4, 5, 6, 7], [1,4,9,16, 25, 36, 49])\n",
    "plt.show()"
   ]
  },
  {
   "cell_type": "markdown",
   "id": "55ba2cf3",
   "metadata": {},
   "source": [
    "# Строим график кубической параболы"
   ]
  },
  {
   "cell_type": "code",
   "execution_count": 7,
   "id": "0a930aff",
   "metadata": {},
   "outputs": [
    {
     "name": "stdout",
     "output_type": "stream",
     "text": [
      "[-5.00000000e+00 -4.90000000e+00 -4.80000000e+00 -4.70000000e+00\n",
      " -4.60000000e+00 -4.50000000e+00 -4.40000000e+00 -4.30000000e+00\n",
      " -4.20000000e+00 -4.10000000e+00 -4.00000000e+00 -3.90000000e+00\n",
      " -3.80000000e+00 -3.70000000e+00 -3.60000000e+00 -3.50000000e+00\n",
      " -3.40000000e+00 -3.30000000e+00 -3.20000000e+00 -3.10000000e+00\n",
      " -3.00000000e+00 -2.90000000e+00 -2.80000000e+00 -2.70000000e+00\n",
      " -2.60000000e+00 -2.50000000e+00 -2.40000000e+00 -2.30000000e+00\n",
      " -2.20000000e+00 -2.10000000e+00 -2.00000000e+00 -1.90000000e+00\n",
      " -1.80000000e+00 -1.70000000e+00 -1.60000000e+00 -1.50000000e+00\n",
      " -1.40000000e+00 -1.30000000e+00 -1.20000000e+00 -1.10000000e+00\n",
      " -1.00000000e+00 -9.00000000e-01 -8.00000000e-01 -7.00000000e-01\n",
      " -6.00000000e-01 -5.00000000e-01 -4.00000000e-01 -3.00000000e-01\n",
      " -2.00000000e-01 -1.00000000e-01 -1.77635684e-14  1.00000000e-01\n",
      "  2.00000000e-01  3.00000000e-01  4.00000000e-01  5.00000000e-01\n",
      "  6.00000000e-01  7.00000000e-01  8.00000000e-01  9.00000000e-01\n",
      "  1.00000000e+00  1.10000000e+00  1.20000000e+00  1.30000000e+00\n",
      "  1.40000000e+00  1.50000000e+00  1.60000000e+00  1.70000000e+00\n",
      "  1.80000000e+00  1.90000000e+00  2.00000000e+00  2.10000000e+00\n",
      "  2.20000000e+00  2.30000000e+00  2.40000000e+00  2.50000000e+00\n",
      "  2.60000000e+00  2.70000000e+00  2.80000000e+00  2.90000000e+00\n",
      "  3.00000000e+00  3.10000000e+00  3.20000000e+00  3.30000000e+00\n",
      "  3.40000000e+00  3.50000000e+00  3.60000000e+00  3.70000000e+00\n",
      "  3.80000000e+00  3.90000000e+00  4.00000000e+00  4.10000000e+00\n",
      "  4.20000000e+00  4.30000000e+00  4.40000000e+00  4.50000000e+00\n",
      "  4.60000000e+00  4.70000000e+00  4.80000000e+00  4.90000000e+00]\n"
     ]
    },
    {
     "data": {
      "text/plain": "<Figure size 432x288 with 1 Axes>",
      "image/png": "[encoded data removed]"
     },
     "metadata": {
      "needs_background": "light"
     },
     "output_type": "display_data"
    }
   ],
   "source": [
    "x = np.arange(-5, 5, 0.1)\n",
    "print(x)\n",
    "y = x ** 3\n",
    "plt.plot(x, y)\n",
    "plt.show()"
   ]
  },
  {
   "cell_type": "markdown",
   "id": "c785c200",
   "metadata": {},
   "source": [
    "## Интерполяция функции экспоненты"
   ]
  },
  {
   "cell_type": "code",
   "execution_count": null,
   "id": "495702ce",
   "metadata": {
    "scrolled": true
   },
   "outputs": [],
   "source": [
    "import numpy as np\n",
    "import matplotlib.pyplot as plt\n",
    "from scipy import interpolate\n",
    "\n",
    "x = np.arange(0, 20, 2)\n",
    "y = np.exp(-x/3)\n",
    "z = x ** 2 / 100\n",
    "\n",
    "print('x = ', x)\n",
    "print('y = ', y)\n",
    "plt.plot(x, y)\n",
    "plt.plot(x, z)\n",
    "plt.show()"
   ]
  },
  {
   "cell_type": "code",
   "execution_count": null,
   "id": "a02af3d9",
   "metadata": {},
   "outputs": [],
   "source": [
    "import scipy\n",
    "scipy.__version__"
   ]
  },
  {
   "cell_type": "code",
   "execution_count": null,
   "id": "d03b7354",
   "metadata": {},
   "outputs": [],
   "source": [
    "f = interpolate.interp1d(x, y)\n",
    "print('f= ', f)\n",
    "x_new = np.arange(0, 8, 0.1)\n",
    "y_new = f(x_new)\n",
    "plt.plot(x, y, 'o')\n",
    "plt.plot(x_new, y_new, '-')"
   ]
  }
 ],
 "metadata": {
  "kernelspec": {
   "display_name": "Python 3",
   "language": "python",
   "name": "python3"
  },
  "language_info": {
   "codemirror_mode": {
    "name": "ipython",
    "version": 3
   },
   "file_extension": ".py",
   "mimetype": "text/x-python",
   "name": "python",
   "nbconvert_exporter": "python",
   "pygments_lexer": "ipython3",
   "version": "3.8.8"
  }
 },
 "nbformat": 4,
 "nbformat_minor": 5
}